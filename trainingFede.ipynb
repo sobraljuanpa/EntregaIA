{
 "cells": [
  {
   "cell_type": "markdown",
   "metadata": {},
   "source": [
    "## Import the necessary libraries\n",
    " - gym contains the enviroment.\n",
    " - time is for calculate the total time of the runs.\n",
    " - random is for obtain certain random number, mostly for the greedy policy.\n",
    " - numpy is for managing data.\n",
    " - math is for use math functions.\n",
    " - seaborn and matplotlib.pyplot is for ploting, seaborn has to be installed on the local enviroment."
   ]
  },
  {
   "cell_type": "code",
   "execution_count": 1,
   "metadata": {},
   "outputs": [],
   "source": [
    "#pip install gym pygame\n",
    "import gym\n",
    "import time\n",
    "from random import randint\n",
    "\n",
    "import numpy as np\n",
    "import math\n",
    "import seaborn as sns\n",
    "import matplotlib.pyplot as plt"
   ]
  },
  {
   "cell_type": "markdown",
   "metadata": {},
   "source": [
    "## Main functions for the enviroment and agent."
   ]
  },
  {
   "cell_type": "code",
   "execution_count": 2,
   "metadata": {},
   "outputs": [
    {
     "name": "stderr",
     "output_type": "stream",
     "text": [
      "/Users/agustinferreira2/opt/anaconda3/envs/gym/lib/python3.9/site-packages/numpy/core/function_base.py:151: RuntimeWarning: invalid value encountered in multiply\n",
      "  y *= step\n",
      "/Users/agustinferreira2/opt/anaconda3/envs/gym/lib/python3.9/site-packages/numpy/core/function_base.py:161: RuntimeWarning: invalid value encountered in add\n",
      "  y += start\n"
     ]
    }
   ],
   "source": [
    "# Declare constants for buckets.\n",
    "POSITION_SIZE = 2\n",
    "VELOCITY_SIZE = 2\n",
    "ANGLE_BINS_SIZE = 12\n",
    "ANGULAR_VELOCITY_BINS_SIZE = 10\n",
    "\n",
    "position_bins = np.linspace(-math.inf, math.inf, POSITION_SIZE)\n",
    "velocity_bins = np.linspace(-math.inf, math.inf, VELOCITY_SIZE)\n",
    "angle_bins = np.linspace(-0.2095, 0.2095, ANGLE_BINS_SIZE)\n",
    "angular_velocity_bins = np.linspace(-2.5, 2.5, ANGULAR_VELOCITY_BINS_SIZE)\n",
    "\n",
    "discount_factor = 0.9\n",
    "\n",
    "env = gym.make('CartPole-v1')\n",
    "\n",
    "\n",
    "def epsilon_greedy_policy(state, Q, epsilon):\n",
    "    if np.random.random() < epsilon:\n",
    "        action = randint(0, 1)\n",
    "    else:\n",
    "        action = np.argmax(Q[state])\n",
    "    return action\n",
    "\n",
    "\n",
    "def optimal_policy(state, Q):\n",
    "    action = np.argmax(Q[state])\n",
    "    return action\n",
    "\n",
    "\n",
    "def get_state(obs):\n",
    "    # Discretize the state.\n",
    "    return np.digitize(obs[0], position_bins), np.digitize(obs[1], velocity_bins), np.digitize(obs[2], angle_bins), np.digitize(obs[3], angular_velocity_bins)\n",
    "\n",
    "\n",
    "Q = np.zeros((POSITION_SIZE + 1, VELOCITY_SIZE + 1,\n",
    "             ANGLE_BINS_SIZE + 1, ANGULAR_VELOCITY_BINS_SIZE + 1, 2))\n",
    "\n",
    "\n",
    "def update_q(state, action, reward, new_state):\n",
    "    Q[state][action] += (learning_rate * (reward +\n",
    "                         discount_factor * np.max(Q[new_state]) - Q[state][action]))\n",
    "\n",
    "\n",
    "def plot(xlabel, ylabel, data):\n",
    "    print(\"Average \" + ylabel + \": \" + str(np.average(data)))\n",
    "    print(\"Min \" + ylabel + \": \" + str(np.min(data)))\n",
    "    print(\"Max \" + ylabel + \": \" + str(np.max(data)))\n",
    "\n",
    "    sns.lineplot(range(len(data)), data)\n",
    "    plt.xlabel(xlabel)\n",
    "    plt.ylabel(ylabel)\n",
    "    plt.show()\n"
   ]
  },
  {
   "cell_type": "markdown",
   "metadata": {},
   "source": [
    "## Training"
   ]
  },
  {
   "cell_type": "code",
   "execution_count": 3,
   "metadata": {},
   "outputs": [
    {
     "name": "stdout",
     "output_type": "stream",
     "text": [
      "I have trained with 10000000 iterations\n",
      "------- Training Timetaken(seconds) ----------------\n",
      "17568.17229270935\n",
      "Average Steps: 40.292887\n",
      "Min Steps: 8\n",
      "Max Steps: 426\n"
     ]
    },
    {
     "name": "stderr",
     "output_type": "stream",
     "text": [
      "/Users/agustinferreira2/opt/anaconda3/envs/gym/lib/python3.9/site-packages/seaborn/_decorators.py:36: FutureWarning: Pass the following variables as keyword args: x, y. From version 0.12, the only valid positional argument will be `data`, and passing other arguments without an explicit keyword will result in an error or misinterpretation.\n",
      "  warnings.warn(\n"
     ]
    },
    {
     "data": {
      "image/png": "[encoded data removed]",
      "text/plain": [
       "<Figure size 432x288 with 1 Axes>"
      ]
     },
     "metadata": {
      "needs_background": "light"
     },
     "output_type": "display_data"
    }
   ],
   "source": [
    "start = time.time()\n",
    "\n",
    "# Params for training.\n",
    "epsilon = 0.7\n",
    "learning_rate = 0.9\n",
    "\n",
    "episodes_of_training = 10000000\n",
    "# Array to analyze the training.\n",
    "steps = [0] * episodes_of_training\n",
    "\n",
    "for episode in range(episodes_of_training):\n",
    "    obs = env.reset()\n",
    "    current_state = get_state(obs)\n",
    "    done = False\n",
    "    while not done:\n",
    "        steps[episode] += 1\n",
    "        # Choose action\n",
    "        action = epsilon_greedy_policy(current_state, Q, epsilon)\n",
    "        # Update action\n",
    "        obs, reward, done, info = env.step(action)\n",
    "        new_state = get_state(obs)\n",
    "        # Update Q.\n",
    "        update_q(current_state, action, reward, new_state)\n",
    "        current_state = new_state\n",
    "print(\"I have trained with \" + str(episodes_of_training) + \" iterations\")\n",
    "end = time.time()\n",
    "print(\"------- Training Timetaken(seconds) ----------------\")\n",
    "print(end-start)\n",
    "plot(\"Episode\", \"Steps\", steps)\n"
   ]
  },
  {
   "cell_type": "markdown",
   "metadata": {},
   "source": [
    "## Running agent."
   ]
  },
  {
   "cell_type": "code",
   "execution_count": 8,
   "metadata": {},
   "outputs": [
    {
     "name": "stdout",
     "output_type": "stream",
     "text": [
      "Agent runned with 100000 samples\n",
      "Average Rewards: 182.6913\n",
      "Min Rewards: 137.0\n",
      "Max Rewards: 500.0\n"
     ]
    },
    {
     "name": "stderr",
     "output_type": "stream",
     "text": [
      "/Users/agustinferreira2/opt/anaconda3/envs/gym/lib/python3.9/site-packages/seaborn/_decorators.py:36: FutureWarning: Pass the following variables as keyword args: x, y. From version 0.12, the only valid positional argument will be `data`, and passing other arguments without an explicit keyword will result in an error or misinterpretation.\n",
      "  warnings.warn(\n"
     ]
    },
    {
     "data": {
      "image/png": "[encoded data removed]",
      "text/plain": [
       "<Figure size 432x288 with 1 Axes>"
      ]
     },
     "metadata": {
      "needs_background": "light"
     },
     "output_type": "display_data"
    },
    {
     "name": "stdout",
     "output_type": "stream",
     "text": [
      "------- Timetaken(seconds) ----------------\n",
      "626.9717319011688\n"
     ]
    }
   ],
   "source": [
    "\n",
    "def simulate_random_agent(number_of_samples):\n",
    "    rewards = [0] * number_of_samples\n",
    "    for index in range(number_of_samples):\n",
    "        obs = env.reset()\n",
    "        done = False\n",
    "        while not done:\n",
    "            policy = optimal_policy(get_state(obs), Q)\n",
    "            obs, reward, done, _ = env.step(policy)\n",
    "            rewards[index] += reward\n",
    "            if done:\n",
    "                env.reset()\n",
    "    env.close()\n",
    "    return rewards\n",
    "\n",
    "start = time.time()\n",
    "\n",
    "number_of_samples = 100000\n",
    "\n",
    "print(\"Agent runned with \" + str(number_of_samples) +\" samples\")\n",
    "\n",
    "rewards = simulate_random_agent(number_of_samples)\n",
    "\n",
    "plot(\"Episode\", \"Rewards\", rewards)\n",
    "\n",
    "end = time.time()\n",
    "print(\"------- Timetaken(seconds) ----------------\")\n",
    "print(end-start)\n",
    "\n",
    "\n",
    "# Se agrega una segunda dimension, si se entrena con 1000 episodios son pocos para la cantidad de posibles estados (pasa de 12 a 120)\n",
    "# y muestra performance promedio peor que la iteracion previa solamente con 12 estados.\n",
    "# Se arranca a entrenar con 10000 episodios y tomar muestreos promedio del valor de la policy con 10000 episodios tambien.\n",
    "# Se arrancan a ver valores arriba de 22 con constancia (con 10 bins, rango de -5 a 5), pero se ven muchos bins vacios o semi vacios\n",
    "\n",
    "# Se sugiere probar cambiar el rango a valores mas cercanos a los observados (-2.5 a 2.5) y aumentra la cant de episodios.\n",
    "# Con un espacio de 10 para la posicion, 5 para las velocidades como descrito rpeviamente, con 10k episodios de entrenamiento\n",
    "# el valor esperado es de aprox 150\n"
   ]
  }
 ],
 "metadata": {
  "interpreter": {
   "hash": "bd7ec0c290eebeba2d3234550abfad329ddbd05bfedb728785acd22c28ec8c7c"
  },
  "kernelspec": {
   "display_name": "Python 3.9.7 ('gym')",
   "language": "python",
   "name": "python3"
  },
  "language_info": {
   "codemirror_mode": {
    "name": "ipython",
    "version": 3
   },
   "file_extension": ".py",
   "mimetype": "text/x-python",
   "name": "python",
   "nbconvert_exporter": "python",
   "pygments_lexer": "ipython3",
   "version": "3.9.7"
  },
  "orig_nbformat": 4
 },
 "nbformat": 4,
 "nbformat_minor": 2
}
