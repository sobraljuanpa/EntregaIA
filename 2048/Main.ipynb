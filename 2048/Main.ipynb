{
 "cells": [
  {
   "cell_type": "code",
   "execution_count": 1,
   "metadata": {},
   "outputs": [],
   "source": [
    "from datetime import datetime\n",
    "from GameBoard import GameBoard\n",
    "from Agent import Agent\n",
    "from Basic_Agent import BasicAgent"
   ]
  },
  {
   "cell_type": "code",
   "execution_count": 2,
   "metadata": {},
   "outputs": [],
   "source": [
    "def check_win(board: GameBoard):\n",
    "    return board.get_max_tile() >= 2048\n",
    "\n",
    "\n",
    "int_to_string = ['UP', 'DOWN', 'LEFT', 'RIGHT']\n",
    "\n",
    "# for i in range(10):\n",
    "#     board = GameBoard()\n",
    "#     board.render()\n",
    "#     print('Justifico hacia arriba')\n",
    "#     board.justify_up()\n",
    "#     board.render()\n",
    "\n",
    "\n",
    "#def check_up_merges(board:GameBoard):\n",
    " #   aux = board.clone()\n",
    "    # simulate movement\n",
    "    \n",
    "    # count adjacencies"
   ]
  },
  {
   "cell_type": "code",
   "execution_count": 3,
   "metadata": {},
   "outputs": [],
   "source": [
    "def testGame():\n",
    "    agent: Agent\n",
    "    board: GameBoard\n",
    "    agent = BasicAgent()\n",
    "    board = GameBoard()\n",
    "    done = False\n",
    "    moves = 0\n",
    "    # board.render()\n",
    "    start = datetime.now()\n",
    "    while not done:\n",
    "        action = agent.play(board)\n",
    "        # print('Next Action: \"{}\"'.format(\n",
    "        #     int_to_string[action]), ',   Move: {}'.format(moves))\n",
    "        done = board.play(action)\n",
    "        done = done or check_win(board)\n",
    "        # board.render()\n",
    "        moves += 1\n",
    "\n",
    "    # print('\\nTotal time: {}'.format(datetime.now() - start))\n",
    "    # print('\\nTotal Moves: {}'.format(moves))\n",
    "    # if check_win(board):\n",
    "    #     print(\"WON THE GAME!!!!!!!!\")\n",
    "    # else:\n",
    "    #     print(\"BOOOOOOOOOO!!!!!!!!!\")\n",
    "    \n",
    "    return moves, check_win(board)\n"
   ]
  },
  {
   "cell_type": "code",
   "execution_count": 4,
   "metadata": {},
   "outputs": [
    {
     "name": "stdout",
     "output_type": "stream",
     "text": [
      "Game: 0\n",
      "Total moves: 589\n",
      "Lose\n",
      "Game: 1\n",
      "Total moves: 942\n",
      "Win\n",
      "Game: 2\n",
      "Total moves: 950\n",
      "Win\n",
      "Game: 3\n",
      "Total moves: 683\n",
      "Lose\n",
      "Game: 4\n",
      "Total moves: 949\n",
      "Win\n",
      "Game: 5\n",
      "Total moves: 814\n",
      "Lose\n",
      "Game: 6\n",
      "Total moves: 474\n",
      "Lose\n",
      "Game: 7\n",
      "Total moves: 991\n",
      "Win\n",
      "Game: 8\n",
      "Total moves: 938\n",
      "Win\n",
      "Game: 9\n",
      "Total moves: 466\n",
      "Lose\n",
      "Game: 10\n",
      "Total moves: 717\n",
      "Lose\n",
      "Game: 11\n",
      "Total moves: 991\n",
      "Win\n",
      "Total wins: 0\n",
      "Total lose: 0\n",
      "Win percentage: 0.0\n"
     ]
    }
   ],
   "source": [
    "gamesToPlay = 10\n",
    "gameMoves = [0] * gamesToPlay\n",
    "winGames = [0] * gamesToPlay\n",
    "loseGames = [0] * gamesToPlay\n",
    "totalWins = 0\n",
    "totalLose = 0\n",
    "winPercentage = 0\n",
    "\n",
    "for i in range(gamesToPlay):\n",
    "    gameResult = testGame()\n",
    "    gameMoves[i] = gameResult[0]\n",
    "    if gameResult[1]:\n",
    "        winGames[i] = 1\n",
    "    else :\n",
    "        loseGames[i] = 1\n",
    "\n",
    "for i in range(gamesToPlay):\n",
    "    print('Game: ' + str(i))\n",
    "    print('Total moves: ' + str(gameMoves[i]))\n",
    "    if winGames[i] == 1:\n",
    "        print('Win')\n",
    "        totalWins = totalWins + 1\n",
    "    else :\n",
    "        print('Lose')\n",
    "        totalLose = totalLose + 1\n",
    "\n",
    "print('Total wins: ' + str(totalWins))\n",
    "print('Total lose: ' + str(totalLose))\n",
    "winPercentage = totalWins / gamesToPlay\n",
    "print('Win percentage: ' + str(winPercentage))\n",
    "\n"
   ]
  }
 ],
 "metadata": {
  "kernelspec": {
   "display_name": "Python 3.9.7 ('base')",
   "language": "python",
   "name": "python3"
  },
  "language_info": {
   "codemirror_mode": {
    "name": "ipython",
    "version": 3
   },
   "file_extension": ".py",
   "mimetype": "text/x-python",
   "name": "python",
   "nbconvert_exporter": "python",
   "pygments_lexer": "ipython3",
   "version": "3.9.7"
  },
  "orig_nbformat": 4,
  "vscode": {
   "interpreter": {
    "hash": "1fbe4c2af297c974b8cef232bb3af34811df97206b87bd61c6de5001c57cca74"
   }
  }
 },
 "nbformat": 4,
 "nbformat_minor": 2
}
