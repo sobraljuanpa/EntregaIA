{
 "cells": [
  {
   "cell_type": "code",
   "execution_count": 1,
   "metadata": {},
   "outputs": [
    {
     "name": "stdout",
     "output_type": "stream",
     "text": [
      "Requirement already satisfied: gym in c:\\users\\juanpa\\.conda\\envs\\gym\\lib\\site-packages (0.23.0)\n",
      "Requirement already satisfied: importlib-metadata>=4.10.0 in c:\\users\\juanpa\\.conda\\envs\\gym\\lib\\site-packages (from gym) (4.11.3)\n",
      "Requirement already satisfied: gym-notices>=0.0.4 in c:\\users\\juanpa\\.conda\\envs\\gym\\lib\\site-packages (from gym) (0.0.6)\n",
      "Requirement already satisfied: numpy>=1.18.0 in c:\\users\\juanpa\\.conda\\envs\\gym\\lib\\site-packages (from gym) (1.21.5)\n",
      "Requirement already satisfied: cloudpickle>=1.2.0 in c:\\users\\juanpa\\.conda\\envs\\gym\\lib\\site-packages (from gym) (2.0.0)\n",
      "Requirement already satisfied: zipp>=0.5 in c:\\users\\juanpa\\.conda\\envs\\gym\\lib\\site-packages (from importlib-metadata>=4.10.0->gym) (3.7.0)\n",
      "Note: you may need to restart the kernel to use updated packages.\n"
     ]
    }
   ],
   "source": [
    "pip install gym[classic_control]"
   ]
  }
 ],
 "metadata": {
  "interpreter": {
   "hash": "62dd6fa03b10e8d18f72a39697c8147acb231e838fed8baac41d77f752476fa9"
  },
  "kernelspec": {
   "display_name": "Python 3.9.7 ('gym')",
   "language": "python",
   "name": "python3"
  },
  "language_info": {
   "codemirror_mode": {
    "name": "ipython",
    "version": 3
   },
   "file_extension": ".py",
   "mimetype": "text/x-python",
   "name": "python",
   "nbconvert_exporter": "python",
   "pygments_lexer": "ipython3",
   "version": "3.9.7"
  },
  "orig_nbformat": 4
 },
 "nbformat": 4,
 "nbformat_minor": 2
}
