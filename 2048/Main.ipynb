{
 "cells": [
  {
   "cell_type": "markdown",
   "metadata": {},
   "source": [
    "### Instalation"
   ]
  },
  {
   "cell_type": "code",
   "execution_count": 1,
   "metadata": {},
   "outputs": [],
   "source": [
    "import seaborn as sns\n",
    "import matplotlib.pyplot as plt\n",
    "from datetime import datetime\n",
    "from GameBoard import GameBoard\n",
    "from Agent import Agent\n",
    "from Basic_Agent import BasicAgent\n",
    "from PrintAgent import PrintAgent"
   ]
  },
  {
   "cell_type": "markdown",
   "metadata": {},
   "source": [
    "### Helper functions"
   ]
  },
  {
   "cell_type": "code",
   "execution_count": 2,
   "metadata": {},
   "outputs": [],
   "source": [
    "def check_win(board: GameBoard):\n",
    "    return board.get_max_tile() >= 2048\n",
    "\n",
    "\n",
    "int_to_string = ['UP', 'DOWN', 'LEFT', 'RIGHT']\n"
   ]
  },
  {
   "cell_type": "code",
   "execution_count": 3,
   "metadata": {},
   "outputs": [],
   "source": [
    "def playSingleGame():\n",
    "    agent: Agent\n",
    "    board: GameBoard\n",
    "    agent = PrintAgent()\n",
    "    board = GameBoard()\n",
    "    done = False\n",
    "    moves = 0\n",
    "    board.render()\n",
    "    start = datetime.now()\n",
    "    while not done:\n",
    "        action = agent.play(board)\n",
    "        print('Next Action: \"{}\"'.format(\n",
    "            int_to_string[action]), ',   Move: {}'.format(moves))\n",
    "        done = board.play(action)\n",
    "        done = done or check_win(board)\n",
    "        board.render()\n",
    "        moves += 1\n",
    "\n",
    "    print('\\nTotal time: {}'.format(datetime.now() - start))\n",
    "    print('\\nTotal Moves: {}'.format(moves))\n",
    "    if check_win(board):\n",
    "        print(\"WON THE GAME!!!!!!!!\")\n",
    "    else:\n",
    "        print(\"BOOOOOOOOOO!!!!!!!!!\")\n"
   ]
  },
  {
   "cell_type": "code",
   "execution_count": 4,
   "metadata": {},
   "outputs": [],
   "source": [
    "def playGameWithoutPrint():\n",
    "    agent: Agent\n",
    "    board: GameBoard\n",
    "    agent = BasicAgent()\n",
    "    board = GameBoard()\n",
    "    done = False\n",
    "    moves = 0\n",
    "    while not done:\n",
    "        action = agent.play(board)\n",
    "        done = board.play(action)\n",
    "        done = done or check_win(board)\n",
    "        moves += 1\n",
    "\n",
    "    maxTile = board.get_max_tile()\n",
    "    return moves, check_win(board), maxTile"
   ]
  },
  {
   "cell_type": "code",
   "execution_count": 5,
   "metadata": {},
   "outputs": [
    {
     "data": {
      "image/png": "[encoded data removed]",
      "text/plain": [
       "<Figure size 432x288 with 1 Axes>"
      ]
     },
     "metadata": {
      "needs_background": "light"
     },
     "output_type": "display_data"
    },
    {
     "data": {
      "image/png": "[encoded data removed]",
      "text/plain": [
       "<Figure size 432x288 with 1 Axes>"
      ]
     },
     "metadata": {
      "needs_background": "light"
     },
     "output_type": "display_data"
    },
    {
     "name": "stdout",
     "output_type": "stream",
     "text": [
      "Total games: 2\n",
      "Total wins: 1\n",
      "Total lose: 1\n",
      "Win percentage: 0.5\n",
      "1024 percentage: 0.0\n",
      "512 percentage: 0.0\n",
      "256 percentage: 0.5\n"
     ]
    }
   ],
   "source": [
    "gamesToPlay = 2\n",
    "gameMoves = [0] * gamesToPlay\n",
    "winGames = [0] * gamesToPlay\n",
    "maxTiles = [0] * gamesToPlay\n",
    "totalWins = 0\n",
    "totalLose = 0\n",
    "winPercentage = 0\n",
    "\n",
    "for i in range(gamesToPlay):\n",
    "    gameResult = playGameWithoutPrint()\n",
    "    gameMoves[i] = gameResult[0]\n",
    "    maxTiles[i] = gameResult[2]\n",
    "    if gameResult[1]:\n",
    "        winGames[i] = 1\n",
    "\n",
    "for i in range(gamesToPlay):\n",
    "    # print('Game: ' + str(i))\n",
    "    # print('Total moves: ' + str(gameMoves[i]))\n",
    "    # print('Max tile: ' + str(maxTiles[i]))\n",
    "    if winGames[i] == 1:\n",
    "        # print('Win')\n",
    "        totalWins = totalWins + 1\n",
    "    else:\n",
    "        # print('Lose')\n",
    "        totalLose = totalLose + 1\n",
    "\n",
    "maxTilesPlot = maxTiles\n",
    "\n",
    "maxTilesPlot.sort()\n",
    "maxTilesPlot = [str(x) for x in maxTiles]\n",
    "plt.hist(maxTilesPlot, label=True)\n",
    "plt.xlabel('Tiles')\n",
    "plt.ylabel('Games')\n",
    "plt.title('Max tiles frecuency.')\n",
    "plt.show()\n",
    "\n",
    "plt.plot(gameMoves)\n",
    "plt.xlabel('Games')\n",
    "plt.ylabel('Moves')\n",
    "plt.title('Total moves per game.')\n",
    "plt.show()\n",
    "\n",
    "print('Total games: ' + str(gamesToPlay))\n",
    "print('Total wins: ' + str(totalWins))\n",
    "print('Total lose: ' + str(totalLose))\n",
    "winPercentage = totalWins / gamesToPlay\n",
    "print('Win percentage: ' + str(winPercentage))\n",
    "print('1024 percentage: ' + str((maxTiles.count(1024))/gamesToPlay))\n",
    "print('512 percentage: ' + str((maxTiles.count(512))/gamesToPlay))\n",
    "print('256 percentage: ' + str((maxTiles.count(256))/gamesToPlay))\n",
    "\n",
    "\n"
   ]
  }
 ],
 "metadata": {
  "kernelspec": {
   "display_name": "Python 3.9.7 ('base')",
   "language": "python",
   "name": "python3"
  },
  "language_info": {
   "codemirror_mode": {
    "name": "ipython",
    "version": 3
   },
   "file_extension": ".py",
   "mimetype": "text/x-python",
   "name": "python",
   "nbconvert_exporter": "python",
   "pygments_lexer": "ipython3",
   "version": "3.9.7"
  },
  "orig_nbformat": 4,
  "vscode": {
   "interpreter": {
    "hash": "1fbe4c2af297c974b8cef232bb3af34811df97206b87bd61c6de5001c57cca74"
   }
  }
 },
 "nbformat": 4,
 "nbformat_minor": 2
}
